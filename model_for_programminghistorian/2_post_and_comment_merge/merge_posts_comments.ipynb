{
 "cells": [
  {
   "cell_type": "markdown",
   "metadata": {},
   "source": [
    "# (Optional) Preparing the data to be used with other NLP techniques!\n",
    "\n",
    "## Introduction\n",
    "\n",
    "In this Python Notebook file, I will be formatting the data so one could use it in many suitable ways. In particular, I am interested in using this data for sentiment analysis. However, other Natural Language Processing techniques could be used to look at this data and might benefit from different forms of designing the data. \n",
    "\n",
    "For this reason, I will use this program for two main purposes. The first, it to double check if there is any duplicated post from our initial data scrapping. If the data scrapping filter that we set up for preventing duplicated posts, we should not see any error message accusing a duplicate. The second goal of this programming piece is to create a text-only file containing the title of the posts, the body of the posts, and all the comments. The goal here is to recreate each webpage including only the human-generated textual production, as one would find it if accessed Reddit on the browser. \n",
    "\n",
    "The identity of the users that commented or posted on the scrapped resources were not collected, so they should not appear on the newly generated files. "
   ]
  },
  {
   "cell_type": "markdown",
   "metadata": {},
   "source": [
    "## Setting up the code!\n",
    "\n",
    "I started importing the two libraries we will use in this project, the os library to use the folders of the system and the csv library to use the csv format. \n",
    "\n",
    "The first step is to create a folder to store all the files. I also make sure to check if this folder already exist to prevent errors. \n",
    "\n"
   ]
  },
  {
   "cell_type": "code",
   "execution_count": 1,
   "metadata": {},
   "outputs": [],
   "source": [
    "import os\n",
    "import csv\n",
    "\n",
    "# Create the output directory if it does not exist\n",
    "output_directory = 'full_posts_comments'\n",
    "if not os.path.exists(output_directory):\n",
    "    os.makedirs(output_directory)"
   ]
  },
  {
   "cell_type": "markdown",
   "metadata": {},
   "source": [
    "Since the folder set up was successful, I will read the posts.csv file and store it in a variable called posts. I will also read the comments.csv file and store it in a variable called comments. \n",
    "\n",
    "Then, I will create a function to merge the posts and comments. This function will be used to create a new file containing the title of the posts, the body of the posts, and all the comments. The goal here is to recreate each webpage including only the human-generated textual production, as one would find it if accessed Reddit on the browser.\n",
    "\n",
    "To make sure there is no duplicated posts, I will create a function to check if there is any duplicated post. This function will be used to check if the data scrapping was successful. If there is any duplicated post, the function will return an error message. If there is no duplicated post, the function will return a message saying that the data scrapping was successful.\n",
    "\n",
    "This way, one could use the comments separatedly or together with the posts.\n",
    "\n",
    "#### Observation!\n",
    "\n",
    "Make sure to use utf-8 encoding to avoid errors with the text."
   ]
  },
  {
   "cell_type": "code",
   "execution_count": null,
   "metadata": {},
   "outputs": [],
   "source": [
    "\n",
    "# Read the posts.csv file and create a dictionary with post_id as key\n",
    "# and the post's title, body as value\n",
    "posts = {}\n",
    "added_post_ids = set()\n",
    "with open('posts.csv', 'r', encoding=\"utf-8\") as posts_file:\n",
    "    reader = csv.reader(posts_file)\n",
    "    next(reader)  # Skip header row\n",
    "    for row in reader:\n",
    "        post_id, title, body, score, ups, downs = row\n",
    "        if post_id in added_post_ids:\n",
    "            print(f'Error: Post {post_id} already added.')\n",
    "            continue\n",
    "        posts[post_id] = {'title': title, 'body': body, 'comments': []}\n",
    "        added_post_ids.add(post_id)\n",
    "\n",
    "# Read the comments.csv file and add each comment's body to the respective post's dictionary\n",
    "with open('comments.csv', 'r', encoding=\"utf-8\") as comments_file:\n",
    "    reader = csv.reader(comments_file)\n",
    "    next(reader)  # Skip header row\n",
    "    for row in reader:\n",
    "        post_id, comment_id, comment, score, ups, downs = row\n",
    "        if post_id in posts:\n",
    "            posts[post_id]['comments'].append(comment)\n",
    "\n",
    "# Create a text file for each post with its title, body, and comments' body\n",
    "for post_id, post_data in posts.items():\n",
    "    filename = f'{output_directory}/{post_id}.txt'\n",
    "    with open(filename, 'w', encoding=\"utf-8\") as output_file:\n",
    "        output_file.write(f'{post_data[\"title\"]}\\n\\n')\n",
    "        output_file.write(f'{post_data[\"body\"]}\\n\\n')\n",
    "        for comment in post_data['comments']:\n",
    "            output_file.write(f'{comment}\\n\\n')\n"
   ]
  },
  {
   "cell_type": "markdown",
   "metadata": {},
   "source": [
    "### Checking if everything went well!\n",
    "\n",
    "If the data cleaning was successful, the function should return no message. If there is any duplicated post, the function should return an error message."
   ]
  }
 ],
 "metadata": {
  "kernelspec": {
   "display_name": "Python 3 (ipykernel)",
   "language": "python",
   "name": "python3"
  },
  "language_info": {
   "codemirror_mode": {
    "name": "ipython",
    "version": 3
   },
   "file_extension": ".py",
   "mimetype": "text/x-python",
   "name": "python",
   "nbconvert_exporter": "python",
   "pygments_lexer": "ipython3",
   "version": "3.9.12"
  },
  "vscode": {
   "interpreter": {
    "hash": "b50a28a276beed389a39c662b4f3a82d56c4623de1da336b4f5eb55d32abec6d"
   }
  }
 },
 "nbformat": 4,
 "nbformat_minor": 2
}
