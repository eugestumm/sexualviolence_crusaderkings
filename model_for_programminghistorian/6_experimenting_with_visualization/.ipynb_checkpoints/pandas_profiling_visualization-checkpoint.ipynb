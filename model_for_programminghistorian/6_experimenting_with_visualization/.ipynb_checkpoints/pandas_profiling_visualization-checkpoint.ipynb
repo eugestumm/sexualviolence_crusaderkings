{
 "cells": [
  {
   "cell_type": "markdown",
   "metadata": {},
   "source": [
    "# (Optional) Extra resource! Fast visualization of the data\n",
    "\n",
    "## Introduction to Pandas Profiling\n",
    "\n",
    "Pandas Profiling is a python library that creates HTML webpages with data visualizations from pandas data structures. Although it has several limitations, it is an alternatives for fast visualization of data sets and data exploration. When analyzing a database, one can rely on it to have a quick exploratory and descriptive analysis of the dataset. \n",
    "\n",
    "In the code below, I used pandas_profiling to create two HTML reports, one for the posts_sentiment.csv file and the other for the comments_sentiment.csv file. The result of the reports are available within this folder. "
   ]
  },
  {
   "cell_type": "code",
   "execution_count": 12,
   "metadata": {},
   "outputs": [
    {
     "name": "stderr",
     "output_type": "stream",
     "text": [
      "Summarize dataset: 100%|██████████| 20/20 [00:00<00:00, 210.76it/s, Completed]                     \n",
      "Generate report structure: 100%|██████████| 1/1 [00:01<00:00,  1.94s/it]\n",
      "Render HTML: 100%|██████████| 1/1 [00:00<00:00,  6.31it/s]\n",
      "Export report to file: 100%|██████████| 1/1 [00:00<00:00, 333.65it/s]\n",
      "Summarize dataset: 100%|██████████| 55/55 [00:02<00:00, 18.77it/s, Completed]                  \n",
      "Generate report structure: 100%|██████████| 1/1 [00:01<00:00,  1.76s/it]\n",
      "Render HTML: 100%|██████████| 1/1 [00:00<00:00,  1.18it/s]\n",
      "Export report to file: 100%|██████████| 1/1 [00:00<00:00, 74.37it/s]\n"
     ]
    }
   ],
   "source": [
    "import pandas as pd\n",
    "import pandas_profiling as pp\n",
    "\n",
    "# Load the posts CSV file\n",
    "posts = pd.read_csv('posts_sentiment.csv')\n",
    "\n",
    "# Generate the profile report for the posts CSV file\n",
    "profile_posts = pp.ProfileReport(posts, title='Posts', minimal=True)\n",
    "\n",
    "# Save the report to an HTML file\n",
    "profile_posts.to_file('posts_report.html')\n",
    "\n",
    "# Load the comments CSV file\n",
    "comments = pd.read_csv('comments_sentiment.csv')\n",
    "\n",
    "# Generate the profile report for the comments CSV file\n",
    "profile_comments = pp.ProfileReport(comments, title='Comments', explorative=True)\n",
    "\n",
    "# Save the report to an HTML file\n",
    "profile_comments.to_file('comments_report.html')\n"
   ]
  }
 ],
 "metadata": {
  "kernelspec": {
   "display_name": "Python 3 (ipykernel)",
   "language": "python",
   "name": "python3"
  },
  "language_info": {
   "codemirror_mode": {
    "name": "ipython",
    "version": 3
   },
   "file_extension": ".py",
   "mimetype": "text/x-python",
   "name": "python",
   "nbconvert_exporter": "python",
   "pygments_lexer": "ipython3",
   "version": "3.9.12"
  },
  "vscode": {
   "interpreter": {
    "hash": "b50a28a276beed389a39c662b4f3a82d56c4623de1da336b4f5eb55d32abec6d"
   }
  }
 },
 "nbformat": 4,
 "nbformat_minor": 2
}
